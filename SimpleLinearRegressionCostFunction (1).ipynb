{
  "nbformat": 4,
  "nbformat_minor": 0,
  "metadata": {
    "colab": {
      "provenance": []
    },
    "kernelspec": {
      "name": "python3",
      "display_name": "Python 3"
    },
    "language_info": {
      "name": "python"
    }
  },
  "cells": [
    {
      "cell_type": "code",
      "source": [
        "# Importing the required libraries\n",
        "\n",
        "# NumPy is used for numerical operations, especially for handling arrays and matrices.\n",
        "import numpy as np\n",
        "\n",
        "# Pandas is used for data manipulation and analysis, providing data structures like Series and DataFrame.\n",
        "import pandas as pd\n",
        "\n",
        "# Matplotlib is used for data visualization. pyplot provides functions to plot graphs and charts.\n",
        "import matplotlib.pyplot as plt\n",
        "\n",
        "# Math module provides access to mathematical functions like square root, exponential, etc.\n",
        "import math\n"
      ],
      "metadata": {
        "id": "c8GO3sCip9Rz"
      },
      "execution_count": 73,
      "outputs": []
    },
    {
      "cell_type": "code",
      "source": [
        "# Loading the dataset manually using NumPy arrays\n",
        "\n",
        "# x_train represents the input feature: land area in 1000 square feet\n",
        "x_train = np.array([1.0, 2.0, 3.0])\n",
        "\n",
        "# y_train represents the target variable: house cost in 1000s of dollars\n",
        "y_train = np.array([300.0, 500.0, 700.0])\n"
      ],
      "metadata": {
        "id": "Pe6x4Wm3qIMj"
      },
      "execution_count": 74,
      "outputs": []
    },
    {
      "cell_type": "code",
      "source": [
        "# This function computes the cost for linear regression using Mean Squared Error (MSE)\n",
        "\n",
        "# Parameters:\n",
        "# x : array of input features (e.g., land area)\n",
        "# y : array of target values (e.g., house price)\n",
        "# w : weight (slope of the line)\n",
        "# b : bias (y-intercept or constant term)\n",
        "\n",
        "def compute_cost(x, y, w, b):\n",
        "    m = x.shape[0]  # Number of training examples\n",
        "    cost = 0        # Initialize the cost to zero\n",
        "\n",
        "    # Loop through each training example\n",
        "    for i in range(m):\n",
        "        f_wb = w * x[i] + b  # Linear prediction (f(x) = wx + b)\n",
        "        cost = cost + (f_wb - y[i])**2  # Squared error between prediction and actual value\n",
        "\n",
        "    # Final cost: Mean Squared Error divided by 2 (for easier derivative computation later)\n",
        "    total_cost = 1 / (2 * m) * cost\n",
        "\n",
        "    return total_cost  # Return the average cost\n"
      ],
      "metadata": {
        "id": "m6MjnbHqqT3i"
      },
      "execution_count": 75,
      "outputs": []
    },
    {
      "cell_type": "code",
      "source": [
        "# This function computes the gradients (partial derivatives) of the cost function\n",
        "# with respect to the parameters w (weight) and b (bias) for linear regression.\n",
        "\n",
        "# Parameters:\n",
        "# x : array of input features\n",
        "# y : array of target values\n",
        "# w : current value of weight\n",
        "# b : current value of bias\n",
        "\n",
        "def compute_gradient(x, y, w, b):\n",
        "    m = x.shape[0]  # Number of training examples\n",
        "    dj_dw = 0       # Gradient of cost with respect to w (slope)\n",
        "    dj_db = 0       # Gradient of cost with respect to b (intercept)\n",
        "\n",
        "    # Loop through each training example to compute the partial derivatives\n",
        "    for i in range(m):\n",
        "        f_wb = w * x[i] + b           # Model prediction for example i\n",
        "        dj_dw_i = (f_wb - y[i]) * x[i]  # Partial derivative w.r.t. w for example i\n",
        "        dj_db_i = (f_wb - y[i])         # Partial derivative w.r.t. b for example i\n",
        "        dj_dw += dj_dw_i              # Accumulate gradient for w\n",
        "        dj_db += dj_db_i              # Accumulate gradient for b\n",
        "\n",
        "    # Average gradients over all examples\n",
        "    dj_dw = dj_dw / m\n",
        "    dj_db = dj_db / m\n",
        "\n",
        "    return dj_dw, dj_db  # Return the gradients for weight and bias\n"
      ],
      "metadata": {
        "id": "RfhgtKQsq_S5"
      },
      "execution_count": 76,
      "outputs": []
    },
    {
      "cell_type": "code",
      "source": [
        "# This function performs gradient descent to minimize the cost function and find optimal values for w and b.\n",
        "\n",
        "# Parameters:\n",
        "# x, y               : Input features and target values\n",
        "# w_in, b_in         : Initial guesses for weight and bias\n",
        "# alpha              : Learning rate (step size for each iteration)\n",
        "# num_iters          : Number of iterations to run gradient descent\n",
        "# cost_function      : Function to compute the cost (used for logging progress)\n",
        "# gradient_function  : Function to compute gradients with respect to w and b\n",
        "\n",
        "def gradient_descent(x, y, w_in, b_in, alpha, num_iters, cost_function, gradient_function):\n",
        "    j_history = []  # List to store the cost at each iteration (for visualization/debugging)\n",
        "    p_history = []  # List to store parameters w and b at each iteration\n",
        "    b = b_in        # Initialize bias\n",
        "    w = w_in        # Initialize weight\n",
        "\n",
        "    # Loop for the specified number of iterations\n",
        "    for i in range(num_iters):\n",
        "        # Compute gradients for current values of w and b\n",
        "        dj_dw, dj_db = gradient_function(x, y, w, b)\n",
        "\n",
        "        # Update parameters using gradient descent formula\n",
        "        b = b - alpha * dj_db\n",
        "        w = w - alpha * dj_dw\n",
        "\n",
        "        # Save cost and parameters for analysis if needed\n",
        "        if i < 100000:\n",
        "            j_history.append(cost_function(x, y, w, b))  # Save cost value\n",
        "            p_history.append([w, b])                     # Save current parameters\n",
        "\n",
        "        # Print cost and parameters every 10% of iterations (for monitoring)\n",
        "        if i % math.ceil(num_iters / 10) == 0:\n",
        "            print(f\"Iteration {i:4}: Cost {j_history[-1]:0.2e} \",\n",
        "                  f\"dj_dw: {dj_dw: 0.3e}, dj_db: {dj_db: 0.3e} \",\n",
        "                  f\"w : {w: 0.3e}, b : {b: 0.5e}\")\n",
        "\n",
        "    # Return the final parameters and the history of cost and parameters\n",
        "    return w, b, j_history, p_history\n"
      ],
      "metadata": {
        "id": "akPAaO5lsLqm"
      },
      "execution_count": 77,
      "outputs": []
    },
    {
      "cell_type": "code",
      "source": [
        "# Initialize parameters for gradient descent\n",
        "w_init = 0          # Initial weight (slope)\n",
        "b_init = 0          # Initial bias (intercept)\n",
        "iterations = 10000  # Number of iterations to run\n",
        "tmp_alpha = 1.0e-2  # Learning rate (step size)\n",
        "\n",
        "# Run the gradient descent function to optimize w and b\n",
        "w_final, b_final, j_hist, p_hist = gradient_descent(\n",
        "    x_train,          # Input features\n",
        "    y_train,          # Target values\n",
        "    w_init,           # Initial weight\n",
        "    b_init,           # Initial bias\n",
        "    tmp_alpha,        # Learning rate\n",
        "    iterations,       # Number of iterations\n",
        "    compute_cost,     # Cost function\n",
        "    compute_gradient  # Gradient function\n",
        ")\n",
        "\n",
        "# Print the final values of w and b found by gradient descent\n",
        "print(f\"(w,b) found by gradient descent: ({w_final:8.4f}, {b_final:8.4f})\")\n"
      ],
      "metadata": {
        "colab": {
          "base_uri": "https://localhost:8080/"
        },
        "id": "ZNP8kRSJuo91",
        "outputId": "018e25b2-e5fa-4342-d394-8f806ca2dbdd"
      },
      "execution_count": 78,
      "outputs": [
        {
          "output_type": "stream",
          "name": "stdout",
          "text": [
            "Iteration    0: Cost 1.23e+05  dj_dw: -1.133e+03, dj_db: -5.000e+02  w :  1.133e+01, b :  5.00000e+00\n",
            "Iteration 1000: Cost 6.55e-01  dj_dw:  1.600e-01, dj_db: -3.636e-01  w :  2.013e+02, b :  9.69785e+01\n",
            "Iteration 2000: Cost 5.91e-02  dj_dw:  4.805e-02, dj_db: -1.092e-01  w :  2.004e+02, b :  9.90924e+01\n",
            "Iteration 3000: Cost 5.33e-03  dj_dw:  1.443e-02, dj_db: -3.281e-02  w :  2.001e+02, b :  9.97274e+01\n",
            "Iteration 4000: Cost 4.81e-04  dj_dw:  4.335e-03, dj_db: -9.855e-03  w :  2.000e+02, b :  9.99181e+01\n",
            "Iteration 5000: Cost 4.34e-05  dj_dw:  1.302e-03, dj_db: -2.960e-03  w :  2.000e+02, b :  9.99754e+01\n",
            "Iteration 6000: Cost 3.92e-06  dj_dw:  3.912e-04, dj_db: -8.893e-04  w :  2.000e+02, b :  9.99926e+01\n",
            "Iteration 7000: Cost 3.53e-07  dj_dw:  1.175e-04, dj_db: -2.671e-04  w :  2.000e+02, b :  9.99978e+01\n",
            "Iteration 8000: Cost 3.19e-08  dj_dw:  3.530e-05, dj_db: -8.024e-05  w :  2.000e+02, b :  9.99993e+01\n",
            "Iteration 9000: Cost 2.88e-09  dj_dw:  1.060e-05, dj_db: -2.410e-05  w :  2.000e+02, b :  9.99998e+01\n",
            "(w,b) found by gradient descent: (200.0000,  99.9999)\n"
          ]
        }
      ]
    },
    {
      "cell_type": "code",
      "source": [
        "# Visualizing the cost function's change over iterations\n",
        "\n",
        "# Create a figure with 1 row and 2 subplots side by side\n",
        "fig, (ax1, ax2) = plt.subplots(1, 2, constrained_layout=True, figsize=(12, 4))\n",
        "\n",
        "# Plot the cost history for the first 100 iterations (to show early changes)\n",
        "ax1.plot(j_hist[:100])\n",
        "\n",
        "# Plot the cost history after 1000 iterations (to show long-term behavior and convergence)\n",
        "ax2.plot(1000 + np.arange(len(j_hist[1000:])), j_hist[1000:])\n",
        "\n",
        "# Set titles and labels for both subplots\n",
        "ax1.set_title(\"Cost vs. iteration (start)\")      # Title for early iterations\n",
        "ax2.set_title(\"Cost vs. iteration (end)\")        # Title for later iterations\n",
        "ax1.set_ylabel('Cost');    ax2.set_ylabel('Cost')    # Y-axis label\n",
        "ax1.set_xlabel('Iteration step'); ax2.set_xlabel('Iteration step')  # X-axis label\n",
        "\n",
        "# Display the plots\n",
        "plt.show()\n"
      ],
      "metadata": {
        "colab": {
          "base_uri": "https://localhost:8080/",
          "height": 428
        },
        "id": "oReuqfz4vgi8",
        "outputId": "ee318b2c-dd96-4b77-ae2c-fad2ca0b4164"
      },
      "execution_count": 79,
      "outputs": [
        {
          "output_type": "display_data",
          "data": {
            "text/plain": [
              "<Figure size 1200x400 with 2 Axes>"
            ],
            "image/png": "[encoded data removed]"
          },
          "metadata": {}
        }
      ]
    },
    {
      "cell_type": "code",
      "source": [
        "# Making predictions using the learned model parameters (w_final and b_final)\n",
        "\n",
        "# Predicting the price of houses given different land areas\n",
        "# The prediction uses the linear model: price = w * area + b\n",
        "\n",
        "print(f\"1000 sqft house prediction  {w_final * 1.0 + b_final:0.1f} Thousand dollars\")\n",
        "print(f\"1200 sqft house prediction  {w_final * 1.2 + b_final:0.1f} Thousand dollars\")\n",
        "print(f\"2000 sqft house prediction  {w_final * 2.0 + b_final:0.1f} Thousand dollars\")\n",
        "print(f\"2500 sqft house prediction  {w_final * 2.5 + b_final:0.1f} Thousand dollars\")\n",
        "print(f\"2725 sqft house prediction  {w_final * 2.725 + b_final:0.1f} Thousand dollars\")\n",
        "print(f\"3000 sqft house prediction  {w_final * 3.0 + b_final:0.1f} Thousand dollars\")\n"
      ],
      "metadata": {
        "colab": {
          "base_uri": "https://localhost:8080/"
        },
        "id": "hDDf3iAWzvj2",
        "outputId": "3ec618bb-426d-4a1f-e0da-0224c9d10577"
      },
      "execution_count": 80,
      "outputs": [
        {
          "output_type": "stream",
          "name": "stdout",
          "text": [
            "1000 sqft house prediction  300.0 Thousand dollars\n",
            "1200 sqft house prediction  340.0 Thousand dollars\n",
            "2000 sqft house prediction  500.0 Thousand dollars\n",
            "2500 sqft house prediction  600.0 Thousand dollars\n",
            "2725 sqft house prediction  645.0 Thousand dollars\n",
            "3000 sqft house prediction  700.0 Thousand dollars\n"
          ]
        }
      ]
    }
  ]
}